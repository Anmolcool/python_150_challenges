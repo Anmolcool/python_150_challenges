{
 "cells": [
  {
   "cell_type": "markdown",
   "id": "a9d35032",
   "metadata": {},
   "source": [
    "#Challenges 1 - 11: The Basics"
   ]
  },
  {
   "cell_type": "code",
   "execution_count": 5,
   "id": "a3bb57a6",
   "metadata": {},
   "outputs": [
    {
     "data": {
      "text/plain": [
       "'001\\nAsk for the user’s first name and\\ndisplay the output message\\nHello [First Name]'"
      ]
     },
     "execution_count": 5,
     "metadata": {},
     "output_type": "execute_result"
    }
   ],
   "source": [
    "\"\"\"001\n",
    "Ask for the user’s first name and\n",
    "display the output message\n",
    "Hello [First Name]\"\"\""
   ]
  },
  {
   "cell_type": "code",
   "execution_count": 8,
   "id": "ba3a539a",
   "metadata": {},
   "outputs": [
    {
     "name": "stdout",
     "output_type": "stream",
     "text": [
      "Enter the first name :Anmol the coder\n",
      "Hello Anmol the coder\n"
     ]
    }
   ],
   "source": [
    "firstName = input(\"Enter the first name :\")\n",
    "print(\"Hello\", firstName)"
   ]
  },
  {
   "cell_type": "code",
   "execution_count": 9,
   "id": "c4f0e144",
   "metadata": {},
   "outputs": [
    {
     "data": {
      "text/plain": [
       "'Ask for the user’s first name and then ask for\\ntheir surname and display the output message\\nHello [First Name] [Surname]'"
      ]
     },
     "execution_count": 9,
     "metadata": {},
     "output_type": "execute_result"
    }
   ],
   "source": [
    "\"\"\"002 Ask for the user’s first name and then ask for\n",
    "their surname and display the output message\n",
    "Hello [First Name] [Surname]\"\"\""
   ]
  },
  {
   "cell_type": "code",
   "execution_count": 10,
   "id": "3a9e33ea",
   "metadata": {},
   "outputs": [
    {
     "name": "stdout",
     "output_type": "stream",
     "text": [
      "First name :Anmol\n",
      "Last name :Yadav\n",
      "Hello Anmol Yadav\n"
     ]
    }
   ],
   "source": [
    "firstname = input(\"First name :\")\n",
    "lastname = input(\"Last name :\")\n",
    "print(\"Hello\", firstname, lastname)"
   ]
  },
  {
   "cell_type": "code",
   "execution_count": 1,
   "id": "bb250931",
   "metadata": {},
   "outputs": [
    {
     "data": {
      "text/plain": [
       "'003\\nWrite code that will display the joke “What do you call a bear with no\\nteeth?” and on the next line display the answer “A gummy bear!” Try to\\ncreate it using only one line of code.'"
      ]
     },
     "execution_count": 1,
     "metadata": {},
     "output_type": "execute_result"
    }
   ],
   "source": [
    "\"\"\"003\n",
    "Write code that will display the joke “What do you call a bear with no\n",
    "teeth?” and on the next line display the answer “A gummy bear!” Try to\n",
    "create it using only one line of code.\"\"\""
   ]
  },
  {
   "cell_type": "code",
   "execution_count": 4,
   "id": "3fbf0a75",
   "metadata": {},
   "outputs": [
    {
     "name": "stdout",
     "output_type": "stream",
     "text": [
      " What do you call a bear with no teeth? \n",
      " A gummy bear!\n"
     ]
    }
   ],
   "source": [
    "print(\" What do you call a bear with no teeth? \\n A gummy bear!\")"
   ]
  },
  {
   "cell_type": "code",
   "execution_count": null,
   "id": "8f4bb6cc",
   "metadata": {},
   "outputs": [],
   "source": [
    "\"\"\"004\n",
    "Ask the user to enter\n",
    "two numbers. Add\n",
    "them together and\n",
    "display the answer as\n",
    "The total is\n",
    "[answer].\"\"\""
   ]
  },
  {
   "cell_type": "code",
   "execution_count": 12,
   "id": "2e71e0f6",
   "metadata": {},
   "outputs": [
    {
     "name": "stdout",
     "output_type": "stream",
     "text": [
      "Enter the first number:1\n",
      "Enter the second number:1\n",
      "The Total is: 2\n"
     ]
    }
   ],
   "source": [
    "num1 = int(input(\"Enter the first number:\"))\n",
    "num2 = int(input(\"Enter the second number:\"))\n",
    "answer = num1 + num2\n",
    "print(\"The Total is:\", answer)"
   ]
  },
  {
   "cell_type": "code",
   "execution_count": null,
   "id": "5d249617",
   "metadata": {},
   "outputs": [],
   "source": [
    "\"\"\"005\n",
    "Ask the user to enter three\n",
    "numbers. Add together the first\n",
    "two numbers and then multiply\n",
    "this total by the third. Display the\n",
    "answer as The answer is\n",
    "[answer].\"\"\""
   ]
  },
  {
   "cell_type": "code",
   "execution_count": 1,
   "id": "9dd948db",
   "metadata": {},
   "outputs": [
    {
     "name": "stdout",
     "output_type": "stream",
     "text": [
      "enter the first no23\n",
      "Enter the second no2\n",
      "Enter thired no4\n",
      "answer is :-  25 100\n"
     ]
    }
   ],
   "source": [
    "a = int(input(\"enter the first no\"))\n",
    "b = int(input(\"Enter the second no\"))\n",
    "c = int(input(\"Enter thired no\"))\n",
    "sum = a + b\n",
    "d = c * sum\n",
    "print(\"answer is :- \", sum, d)"
   ]
  },
  {
   "cell_type": "code",
   "execution_count": null,
   "id": "1dc43f88",
   "metadata": {},
   "outputs": [],
   "source": [
    "\"\"\"006\n",
    "Ask how many slices\n",
    "of pizza the user\n",
    "started with and ask\n",
    "how many slices\n",
    "they have eaten.\n",
    "Work out how many\n",
    "slices they have left\n",
    "and display the\n",
    "answer in a userfriendly\n",
    "format.\"\"\""
   ]
  },
  {
   "cell_type": "code",
   "execution_count": 3,
   "id": "7c831f1b",
   "metadata": {},
   "outputs": [
    {
     "name": "stdout",
     "output_type": "stream",
     "text": [
      "Enter the tota slices of pizza: 23\n",
      "Enter the eaten by them: 3\n",
      "Slices theyy are left with is:  20\n"
     ]
    }
   ],
   "source": [
    "a = int(input(\"Enter the tota slices of pizza: \"))\n",
    "b = int(input(\"Enter the eaten by them: \"))\n",
    "left = a - b\n",
    "print(\"Slices theyy are left with is: \", left)\n",
    "              "
   ]
  },
  {
   "cell_type": "code",
   "execution_count": null,
   "id": "1021f464",
   "metadata": {},
   "outputs": [],
   "source": [
    "\"\"\"007\n",
    "Ask the user for their name and their age. Add 1 to their age\n",
    "and display the output [Name] next birthday you\n",
    "will be [new age].\"\"\""
   ]
  },
  {
   "cell_type": "code",
   "execution_count": 1,
   "id": "2d2553ca",
   "metadata": {},
   "outputs": [
    {
     "name": "stdout",
     "output_type": "stream",
     "text": [
      "Enter the name: anmol\n",
      "Enter the age: 23\n",
      "name of person is  anmol  next birthday your age will be:  24\n"
     ]
    }
   ],
   "source": [
    "a = str(input(\"Enter the name: \"))\n",
    "b = int(input(\"Enter the age: \"))\n",
    "age = b + 1\n",
    "print(\"name of person is \", a, \" next birthday your age will be: \", age)"
   ]
  },
  {
   "cell_type": "code",
   "execution_count": null,
   "id": "ebd9e8f5",
   "metadata": {},
   "outputs": [],
   "source": [
    "\"\"\"008\n",
    "Ask for the total price of the bill, then ask how\n",
    "many diners there are. Divide the total bill by the\n",
    "number of diners and show how much each\n",
    "person must pay.\"\"\""
   ]
  },
  {
   "cell_type": "code",
   "execution_count": 2,
   "id": "bfdd3609",
   "metadata": {},
   "outputs": [
    {
     "name": "stdout",
     "output_type": "stream",
     "text": [
      "total bill amount: 200\n",
      "no of person: 10\n",
      "each person have to pay:  20.0\n"
     ]
    }
   ],
   "source": [
    "a = int(input(\"total bill amount: \"))\n",
    "b = int(input(\"no of person: \"))\n",
    "c = a/b\n",
    "print(\"each person have to pay: \", c)"
   ]
  },
  {
   "cell_type": "code",
   "execution_count": null,
   "id": "185dae65",
   "metadata": {},
   "outputs": [],
   "source": [
    "\"\"\"009\n",
    "Write a program\n",
    "that will ask for a\n",
    "number of days\n",
    "and then will\n",
    "show how many\n",
    "hours, minutes\n",
    "and seconds are\n",
    "in that number of\n",
    "days.\"\"\""
   ]
  },
  {
   "cell_type": "code",
   "execution_count": 4,
   "id": "f1687ae9",
   "metadata": {},
   "outputs": [
    {
     "name": "stdout",
     "output_type": "stream",
     "text": [
      "enter the number of days: 2\n",
      "hour:  48 minute:  2880 second 172800\n"
     ]
    }
   ],
   "source": [
    "a = int(input(\"enter the number of days: \"))\n",
    "b_hr = a * 24\n",
    "c_mint = b_hr * 60\n",
    "d_sec = c_mint * 60\n",
    "print(\"hour: \",b_hr,\"minute: \",c_mint, \"second\", d_sec)"
   ]
  },
  {
   "cell_type": "code",
   "execution_count": null,
   "id": "957ebcac",
   "metadata": {},
   "outputs": [],
   "source": [
    "\"\"\"010\n",
    "There are 2,204 pounds in a kilogram. Ask the\n",
    "user to enter a weight in kilograms and convert it\n",
    "to pounds.\"\"\""
   ]
  },
  {
   "cell_type": "code",
   "execution_count": 5,
   "id": "0207f988",
   "metadata": {},
   "outputs": [
    {
     "name": "stdout",
     "output_type": "stream",
     "text": [
      "Enter the kilogram: 2\n",
      "kilogram converted into pounds 4408\n"
     ]
    }
   ],
   "source": [
    "a = int(input(\"Enter the kilogram: \"))\n",
    "b = a * 2204\n",
    "print(\"kilogram converted into pounds\", b)"
   ]
  },
  {
   "cell_type": "code",
   "execution_count": null,
   "id": "0b85b838",
   "metadata": {},
   "outputs": [],
   "source": [
    "\"\"\"011\n",
    "Task the user to enter a number over 100 and then enter a number under\n",
    "10 and tell them how many times the smaller number goes into the larger\n",
    "number in a user-friendly format.\"\"\""
   ]
  },
  {
   "cell_type": "code",
   "execution_count": 6,
   "id": "2d228a4a",
   "metadata": {},
   "outputs": [
    {
     "name": "stdout",
     "output_type": "stream",
     "text": [
      "Enter the no above 100120\n",
      "Enter the no under 1010\n",
      "times smaller into larger no 12\n"
     ]
    }
   ],
   "source": [
    "a = int(input(\"Enter the no above 100\"))\n",
    "b = int(input(\"Enter the no under 10\"))\n",
    "c = a//b\n",
    "print(\"times smaller into larger no\", c)"
   ]
  },
  {
   "cell_type": "code",
   "execution_count": null,
   "id": "f1c6ab39",
   "metadata": {},
   "outputs": [],
   "source": [
    "\"\"\"012\n",
    "Ask for two numbers. If\n",
    "the first one is larger\n",
    "than the second, display\n",
    "the second number first\n",
    "and then the first\n",
    "number, otherwise show\n",
    "the first number first and\n",
    "then the second.\"\"\""
   ]
  },
  {
   "cell_type": "code",
   "execution_count": 7,
   "id": "9ca3a6c2",
   "metadata": {},
   "outputs": [
    {
     "name": "stdout",
     "output_type": "stream",
     "text": [
      "Enter the 1st no2\n",
      "enter the 2nd no3\n",
      "first no:  2\n",
      "second no:  3\n"
     ]
    }
   ],
   "source": [
    "a = int(input(\"Enter the 1st no\"))\n",
    "b = int(input(\"enter the 2nd no\"))\n",
    "if a > b:\n",
    "    print(\"second no: \", b)\n",
    "    print(\"first no: \", a)\n",
    "else:\n",
    "    print(\"first no: \", a)\n",
    "    print(\"second no: \", b)"
   ]
  },
  {
   "cell_type": "code",
   "execution_count": null,
   "id": "c8f92ca3",
   "metadata": {},
   "outputs": [],
   "source": [
    "\"\"\"013\n",
    "Ask the user to enter a\n",
    "number that is under\n",
    "20. If they enter a\n",
    "number that is 20 or\n",
    "more, display the\n",
    "message “Too high”,\n",
    "otherwise display\n",
    "“Thank you”.\"\"\""
   ]
  },
  {
   "cell_type": "code",
   "execution_count": 9,
   "id": "9f0d30da",
   "metadata": {},
   "outputs": [
    {
     "name": "stdout",
     "output_type": "stream",
     "text": [
      "Enter the no i.e 20 or more2\n",
      "Thank you\n"
     ]
    }
   ],
   "source": [
    "a = int(input(\"Enter the no i.e 20 or more\"))\n",
    "if a > 20:\n",
    "    print(\"Too high\")\n",
    "else:\n",
    "    print(\"Thank you\")"
   ]
  },
  {
   "cell_type": "code",
   "execution_count": null,
   "id": "b5c40a1f",
   "metadata": {},
   "outputs": [],
   "source": [
    "\"\"\"014\n",
    "Ask the user to enter a\n",
    "number between 10 and 20\n",
    "(inclusive). If they enter a\n",
    "number within this range,\n",
    "display the message “Thank\n",
    "you”, otherwise display the\n",
    "message “Incorrect\n",
    "answer”.\"\"\""
   ]
  },
  {
   "cell_type": "code",
   "execution_count": 11,
   "id": "5816a26d",
   "metadata": {},
   "outputs": [
    {
     "name": "stdout",
     "output_type": "stream",
     "text": [
      "Enter the no in range23\n",
      "incorrect\n"
     ]
    }
   ],
   "source": [
    "a = int(input(\"Enter the no in range\"))\n",
    "if a > 10 and a < 20:\n",
    "    print(\"Thanlk you\")\n",
    "else:\n",
    "    print(\"incorrect\")\n",
    "    "
   ]
  },
  {
   "cell_type": "code",
   "execution_count": null,
   "id": "e17a5bbb",
   "metadata": {},
   "outputs": [],
   "source": [
    "\"\"\"015\n",
    "Ask the user to enter their favourite colour. If they enter “red”, “RED” or\n",
    "“Red” display the message “I like red too”, otherwise display the message\n",
    "“I don’t like [colour], I prefer red”.\"\"\""
   ]
  },
  {
   "cell_type": "code",
   "execution_count": null,
   "id": "23b1533b",
   "metadata": {},
   "outputs": [],
   "source": [
    "a = str(input(\"Enter the favourite: \"))\n",
    "b = "
   ]
  },
  {
   "cell_type": "code",
   "execution_count": null,
   "id": "9d2192af",
   "metadata": {},
   "outputs": [],
   "source": []
  },
  {
   "cell_type": "code",
   "execution_count": null,
   "id": "9f326170",
   "metadata": {},
   "outputs": [],
   "source": []
  },
  {
   "cell_type": "code",
   "execution_count": null,
   "id": "09e52ccc",
   "metadata": {},
   "outputs": [],
   "source": []
  },
  {
   "cell_type": "code",
   "execution_count": null,
   "id": "e7b422fa",
   "metadata": {},
   "outputs": [],
   "source": []
  },
  {
   "cell_type": "code",
   "execution_count": null,
   "id": "2a69fb5c",
   "metadata": {},
   "outputs": [],
   "source": []
  }
 ],
 "metadata": {
  "kernelspec": {
   "display_name": "Python 3 (ipykernel)",
   "language": "python",
   "name": "python3"
  },
  "language_info": {
   "codemirror_mode": {
    "name": "ipython",
    "version": 3
   },
   "file_extension": ".py",
   "mimetype": "text/x-python",
   "name": "python",
   "nbconvert_exporter": "python",
   "pygments_lexer": "ipython3",
   "version": "3.10.9"
  }
 },
 "nbformat": 4,
 "nbformat_minor": 5
}
